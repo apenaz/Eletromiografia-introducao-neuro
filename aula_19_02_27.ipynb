{
  "nbformat": 4,
  "nbformat_minor": 0,
  "metadata": {
    "colab": {
      "name": "aula.19.02.27.ipynb",
      "version": "0.3.2",
      "provenance": [],
      "collapsed_sections": [],
      "include_colab_link": true
    },
    "kernelspec": {
      "name": "python3",
      "display_name": "Python 3"
    },
    "accelerator": "GPU"
  },
  "cells": [
    {
      "cell_type": "markdown",
      "metadata": {
        "id": "view-in-github",
        "colab_type": "text"
      },
      "source": [
        "<a href=\"https://colab.research.google.com/github/apenaz/Eletromiografia-introducao-neuro/blob/master/aula_19_02_27.ipynb\" target=\"_parent\"><img src=\"https://colab.research.google.com/assets/colab-badge.svg\" alt=\"Open In Colab\"/></a>"
      ]
    },
    {
      "metadata": {
        "id": "Nv9xxsdnYytM",
        "colab_type": "code",
        "colab": {}
      },
      "cell_type": "code",
      "source": [
        "#@title Introdução ao do tensorflow { vertical-output: true, display-mode: \"form\" }"
      ],
      "execution_count": 0,
      "outputs": []
    },
    {
      "metadata": {
        "id": "DnN9kZgiZes4",
        "colab_type": "code",
        "outputId": "3c196b87-d3a9-44dd-997a-fe668e95ed2a",
        "colab": {
          "base_uri": "https://localhost:8080/",
          "height": 564
        }
      },
      "cell_type": "code",
      "source": [
        "!pip --version\n",
        "!pip show tensorflow\n",
        "!pip show keras\n",
        "!pip show opencv-contrib-python"
      ],
      "execution_count": 14,
      "outputs": [
        {
          "output_type": "stream",
          "text": [
            "pip 19.0.2 from /usr/local/lib/python3.6/dist-packages/pip (python 3.6)\n",
            "Name: tensorflow\n",
            "Version: 1.13.0rc2\n",
            "Summary: TensorFlow is an open source machine learning framework for everyone.\n",
            "Home-page: https://www.tensorflow.org/\n",
            "Author: Google Inc.\n",
            "Author-email: opensource@google.com\n",
            "License: Apache 2.0\n",
            "Location: /usr/local/lib/python3.6/dist-packages\n",
            "Requires: numpy, grpcio, absl-py, gast, keras-applications, six, protobuf, astor, termcolor, wheel, tensorboard, keras-preprocessing, tensorflow-estimator\n",
            "Required-by: stable-baselines, magenta, fancyimpute\n",
            "Name: Keras\n",
            "Version: 2.2.4\n",
            "Summary: Deep Learning for humans\n",
            "Home-page: https://github.com/keras-team/keras\n",
            "Author: Francois Chollet\n",
            "Author-email: francois.chollet@gmail.com\n",
            "License: MIT\n",
            "Location: /usr/local/lib/python3.6/dist-packages\n",
            "Requires: scipy, keras-preprocessing, keras-applications, numpy, h5py, pyyaml, six\n",
            "Required-by: \n",
            "Name: opencv-contrib-python\n",
            "Version: 3.4.3.18\n",
            "Summary: Wrapper package for OpenCV python bindings.\n",
            "Home-page: https://github.com/skvark/opencv-python\n",
            "Author: None\n",
            "Author-email: None\n",
            "License: MIT\n",
            "Location: /usr/local/lib/python3.6/dist-packages\n",
            "Requires: numpy\n",
            "Required-by: \n"
          ],
          "name": "stdout"
        }
      ]
    },
    {
      "metadata": {
        "id": "RfdD2C7Pcdom",
        "colab_type": "code",
        "colab": {
          "base_uri": "https://localhost:8080/",
          "height": 102
        },
        "outputId": "5c04a5bf-ebd9-4516-e68f-5b36a558351f"
      },
      "cell_type": "code",
      "source": [
        "import tensorflow as tf\n",
        "from tensorflow.keras import layers\n",
        "import cv2 as cv\n",
        "import numpy as np\n",
        "\n",
        "print(tf.VERSION)\n",
        "print(tf.keras.__version__)\n",
        "print(cv.__version__)\n",
        "print(np.__version__)\n",
        "\n",
        "device_name = tf.test.gpu_device_name()\n",
        "print(device_name)"
      ],
      "execution_count": 3,
      "outputs": [
        {
          "output_type": "stream",
          "text": [
            "1.13.0-rc2\n",
            "2.2.4-tf\n",
            "3.4.3\n",
            "1.14.6\n",
            "/device:GPU:0\n"
          ],
          "name": "stdout"
        }
      ]
    },
    {
      "metadata": {
        "id": "lwxGL1AGegPN",
        "colab_type": "code",
        "colab": {
          "base_uri": "https://localhost:8080/",
          "height": 34
        },
        "outputId": "03df78c0-efd6-4a42-ff3b-006664f91736"
      },
      "cell_type": "code",
      "source": [
        "!touch /sample_data/newfile.txt"
      ],
      "execution_count": 8,
      "outputs": [
        {
          "output_type": "stream",
          "text": [
            "touch: cannot touch '/sample_data/newfile.txt': No such file or directory\n"
          ],
          "name": "stdout"
        }
      ]
    }
  ]
}